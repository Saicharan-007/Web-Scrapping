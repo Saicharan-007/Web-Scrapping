{
  "nbformat": 4,
  "nbformat_minor": 0,
  "metadata": {
    "colab": {
      "provenance": []
    },
    "kernelspec": {
      "name": "python3",
      "display_name": "Python 3"
    },
    "language_info": {
      "name": "python"
    }
  },
  "cells": [
    {
      "cell_type": "code",
      "execution_count": 1,
      "metadata": {
        "id": "ApQC7YDZW_sa"
      },
      "outputs": [],
      "source": [
        "import os\n",
        "import tweepy as tw\n",
        "import pandas as pd\n",
        "from tqdm import tqdm, notebook\n",
        "\n",
        "pd.set_option('display.max_columns', None)\n",
        "pd.set_option('display.max_rows', None)\n",
        "pd.set_option('display.max_colwidth', None)\n",
        "pd.set_option('display.width', None)"
      ]
    },
    {
      "cell_type": "code",
      "source": [
        "consumer_api_key = '2Em7SxlX9jPMfL4x97r3zMO0x'\n",
        "consumer_api_secret = \"sVbJzekKuiAgq83Y7gCwNVbSowqQokGVzWexKHl2cXIPceWtSd\""
      ],
      "metadata": {
        "id": "71-S1yPvXBZS"
      },
      "execution_count": 2,
      "outputs": []
    },
    {
      "cell_type": "code",
      "source": [
        "auth = tw.OAuthHandler(consumer_api_key, consumer_api_secret)"
      ],
      "metadata": {
        "id": "fuIluvIsXEMB"
      },
      "execution_count": 3,
      "outputs": []
    },
    {
      "cell_type": "code",
      "source": [
        "api = tw.API(auth, wait_on_rate_limit=True)"
      ],
      "metadata": {
        "id": "vH0CTqHgXGE5"
      },
      "execution_count": 4,
      "outputs": []
    },
    {
      "cell_type": "code",
      "source": [
        "search_words = \"#covid19 -filter:retweets\"\n",
        "date_since = \"2020-03-01\"\n",
        "# Collect tweets\n",
        "tweets = tw.Cursor(api.search,\n",
        "              q=search_words,\n",
        "              lang=\"en\",\n",
        "              since=date_since).items(1245)"
      ],
      "metadata": {
        "id": "5b2YD_JgXIxI"
      },
      "execution_count": 5,
      "outputs": []
    },
    {
      "cell_type": "code",
      "source": [
        "tweets_copy = []\n",
        "for tweet in tqdm(tweets):\n",
        "     tweets_copy.append(tweet)"
      ],
      "metadata": {
        "colab": {
          "base_uri": "https://localhost:8080/"
        },
        "id": "Sgzw3QOtXLcG",
        "outputId": "8d1e2ee8-2f97-4b92-cd32-312c7014bf2e"
      },
      "execution_count": 6,
      "outputs": [
        {
          "output_type": "stream",
          "name": "stderr",
          "text": [
            "1245it [00:44, 27.67it/s]\n"
          ]
        }
      ]
    },
    {
      "cell_type": "code",
      "source": [
        "print(f\"new tweets retrieved: {len(tweets_copy)}\")"
      ],
      "metadata": {
        "colab": {
          "base_uri": "https://localhost:8080/"
        },
        "id": "Sh3pb-ygXOEy",
        "outputId": "d5bc7430-d5d8-4af8-94b5-60933b72d29a"
      },
      "execution_count": 7,
      "outputs": [
        {
          "output_type": "stream",
          "name": "stdout",
          "text": [
            "new tweets retrieved: 1245\n"
          ]
        }
      ]
    },
    {
      "cell_type": "code",
      "source": [
        "tweets_df = pd.DataFrame()\n",
        "for tweet in tqdm(tweets_copy):\n",
        "    hashtags = []\n",
        "    try:\n",
        "        for hashtag in tweet.entities[\"hashtags\"]:\n",
        "            hashtags.append(hashtag[\"text\"])\n",
        "        text = api.get_status(id=tweet.id, tweet_mode='extended').full_text\n",
        "    except:\n",
        "        pass\n",
        "    tweets_df = tweets_df.append(pd.DataFrame({'user_name': tweet.user.name, \n",
        "                                               'user_location': tweet.user.location,\\\n",
        "                                               'user_description': tweet.user.description,\n",
        "                                               'user_created': tweet.user.created_at,\n",
        "                                               'user_followers': tweet.user.followers_count,\n",
        "                                               'user_friends': tweet.user.friends_count,\n",
        "                                               'user_favourites': tweet.user.favourites_count,\n",
        "                                               'user_verified': tweet.user.verified,\n",
        "                                               'date': tweet.created_at,\n",
        "                                               'text': text, \n",
        "                                               'hashtags': [hashtags if hashtags else None],\n",
        "                                               'source': tweet.source,\n",
        "                                               'is_retweet': tweet.retweeted}, index=[0]))"
      ],
      "metadata": {
        "colab": {
          "base_uri": "https://localhost:8080/"
        },
        "id": "X5jCppLYXZgc",
        "outputId": "94671b2f-6cd6-42e9-e67e-290c8705deb9"
      },
      "execution_count": 9,
      "outputs": [
        {
          "output_type": "stream",
          "name": "stderr",
          "text": [
            "100%|██████████| 1245/1245 [10:14<00:00,  2.03it/s]\n"
          ]
        }
      ]
    },
    {
      "cell_type": "code",
      "source": [
        "tweets_df.head()\n"
      ],
      "metadata": {
        "colab": {
          "base_uri": "https://localhost:8080/",
          "height": 860
        },
        "id": "BRDGqrsaXddp",
        "outputId": "f7641f8b-0694-420b-99ec-2c9507750adf"
      },
      "execution_count": 10,
      "outputs": [
        {
          "output_type": "execute_result",
          "data": {
            "text/plain": [
              "            user_name          user_location  \\\n",
              "0         COVID Scale                  Earth   \n",
              "0              Olivia                          \n",
              "0      Truetelehealth                          \n",
              "0          Wyldcliffe       no fixed address   \n",
              "0  The Swiss Pharmacy  Geneva,  Switzerland    \n",
              "\n",
              "                                                                                                                                                user_description  \\\n",
              "0                                A bot designed to put the #COVID19 pandemic's effect on the United States into historical perspective. Stats from @Worldometers   \n",
              "0  Cleveland rocks. The Beatles, Neil Young , Bob Dylan and CCR rock my world. “Our lives begin to end the day we become silent about things that matter.” MLKJr   \n",
              "0        TrueTeleHealth is a comprehensive, easy to use, and affordable telehealth platform. It is created to improve access and delivery of virtual healthcare.   \n",
              "0                                                                                                                                            Ponderer & Wanderer   \n",
              "0                                                                                                       Leading supplier of branded and generic medicines online   \n",
              "\n",
              "         user_created  user_followers  user_friends  user_favourites  \\\n",
              "0 2017-09-15 19:54:39            1371             3                7   \n",
              "0 2011-06-09 22:09:27             789          1864            25960   \n",
              "0 2020-03-30 08:34:10             771          1100               41   \n",
              "0 2022-10-05 03:39:36               6             9              687   \n",
              "0 2009-08-02 10:46:42             142             2               38   \n",
              "\n",
              "   user_verified                date  \\\n",
              "0          False 2022-11-27 18:30:59   \n",
              "0          False 2022-11-27 18:30:07   \n",
              "0          False 2022-11-27 18:30:00   \n",
              "0          False 2022-11-27 18:29:56   \n",
              "0          False 2022-11-27 18:29:42   \n",
              "\n",
              "                                                                                                                                                                                                                                                                                                             text  \\\n",
              "0                                                                                               Since the start of the pandemic, 1,104,751 Americans have died from #COVID19 (16.6% of all deaths worldwide). That is about the same as 1,203 Jonestowns which killed 918 people in 1978: https://t.co/cAXtZeSSjF   \n",
              "0                                                                                                                                                                                                                       It’s not over folks. #GetVaccinated #COVID19 #CovidIsNotOver #cov https://t.co/n7H6Woe0GK   \n",
              "0                                                                             How TeleHealth can enhance your practice revenue\\n\\nhttps://t.co/L1PgvyQ16o\\n\\n#telehealth #telemedicine #healthcare  #therapy #primarycare  #home #HIT #covid19 #usa #selfcare #coronavirus #photooftheday https://t.co/n2UvQSLgGZ   \n",
              "0  #blankpaperexercise\\nThe Chinese people need our help! Trend blank paper exercise get the word out that the Chinese people in spite of horrific consequences are standing up against these lockdowns. The world needs a blank paper exercise. Time for courage is now. #China #COVID19 https://t.co/zUCh2YmkRy   \n",
              "0                                                                                                                               How long does covid-19 survive on surfaces ? The effect of temperature on persistence of SARS-CoV-2 on common surfaces #covid19 #covidsurfacetransmission https://t.co/S8WLjHDBeB   \n",
              "\n",
              "                                        hashtags              source  \\\n",
              "0                                      [COVID19]         HN_Comments   \n",
              "0  [GetVaccinated, COVID19, CovidIsNotOver, cov]  Twitter for iPhone   \n",
              "0         [telehealth, telemedicine, healthcare]     Twitter Web App   \n",
              "0                           [blankpaperexercise]    Twitter for iPad   \n",
              "0                                           None     Twitter Web App   \n",
              "\n",
              "   is_retweet  \n",
              "0       False  \n",
              "0       False  \n",
              "0       False  \n",
              "0       False  \n",
              "0       False  "
            ],
            "text/html": [
              "\n",
              "  <div id=\"df-56640a1d-edf5-4037-9d87-adf2e023fec7\">\n",
              "    <div class=\"colab-df-container\">\n",
              "      <div>\n",
              "<style scoped>\n",
              "    .dataframe tbody tr th:only-of-type {\n",
              "        vertical-align: middle;\n",
              "    }\n",
              "\n",
              "    .dataframe tbody tr th {\n",
              "        vertical-align: top;\n",
              "    }\n",
              "\n",
              "    .dataframe thead th {\n",
              "        text-align: right;\n",
              "    }\n",
              "</style>\n",
              "<table border=\"1\" class=\"dataframe\">\n",
              "  <thead>\n",
              "    <tr style=\"text-align: right;\">\n",
              "      <th></th>\n",
              "      <th>user_name</th>\n",
              "      <th>user_location</th>\n",
              "      <th>user_description</th>\n",
              "      <th>user_created</th>\n",
              "      <th>user_followers</th>\n",
              "      <th>user_friends</th>\n",
              "      <th>user_favourites</th>\n",
              "      <th>user_verified</th>\n",
              "      <th>date</th>\n",
              "      <th>text</th>\n",
              "      <th>hashtags</th>\n",
              "      <th>source</th>\n",
              "      <th>is_retweet</th>\n",
              "    </tr>\n",
              "  </thead>\n",
              "  <tbody>\n",
              "    <tr>\n",
              "      <th>0</th>\n",
              "      <td>COVID Scale</td>\n",
              "      <td>Earth</td>\n",
              "      <td>A bot designed to put the #COVID19 pandemic's effect on the United States into historical perspective. Stats from @Worldometers</td>\n",
              "      <td>2017-09-15 19:54:39</td>\n",
              "      <td>1371</td>\n",
              "      <td>3</td>\n",
              "      <td>7</td>\n",
              "      <td>False</td>\n",
              "      <td>2022-11-27 18:30:59</td>\n",
              "      <td>Since the start of the pandemic, 1,104,751 Americans have died from #COVID19 (16.6% of all deaths worldwide). That is about the same as 1,203 Jonestowns which killed 918 people in 1978: https://t.co/cAXtZeSSjF</td>\n",
              "      <td>[COVID19]</td>\n",
              "      <td>HN_Comments</td>\n",
              "      <td>False</td>\n",
              "    </tr>\n",
              "    <tr>\n",
              "      <th>0</th>\n",
              "      <td>Olivia</td>\n",
              "      <td></td>\n",
              "      <td>Cleveland rocks. The Beatles, Neil Young , Bob Dylan and CCR rock my world. “Our lives begin to end the day we become silent about things that matter.” MLKJr</td>\n",
              "      <td>2011-06-09 22:09:27</td>\n",
              "      <td>789</td>\n",
              "      <td>1864</td>\n",
              "      <td>25960</td>\n",
              "      <td>False</td>\n",
              "      <td>2022-11-27 18:30:07</td>\n",
              "      <td>It’s not over folks. #GetVaccinated #COVID19 #CovidIsNotOver #cov https://t.co/n7H6Woe0GK</td>\n",
              "      <td>[GetVaccinated, COVID19, CovidIsNotOver, cov]</td>\n",
              "      <td>Twitter for iPhone</td>\n",
              "      <td>False</td>\n",
              "    </tr>\n",
              "    <tr>\n",
              "      <th>0</th>\n",
              "      <td>Truetelehealth</td>\n",
              "      <td></td>\n",
              "      <td>TrueTeleHealth is a comprehensive, easy to use, and affordable telehealth platform. It is created to improve access and delivery of virtual healthcare.</td>\n",
              "      <td>2020-03-30 08:34:10</td>\n",
              "      <td>771</td>\n",
              "      <td>1100</td>\n",
              "      <td>41</td>\n",
              "      <td>False</td>\n",
              "      <td>2022-11-27 18:30:00</td>\n",
              "      <td>How TeleHealth can enhance your practice revenue\\n\\nhttps://t.co/L1PgvyQ16o\\n\\n#telehealth #telemedicine #healthcare  #therapy #primarycare  #home #HIT #covid19 #usa #selfcare #coronavirus #photooftheday https://t.co/n2UvQSLgGZ</td>\n",
              "      <td>[telehealth, telemedicine, healthcare]</td>\n",
              "      <td>Twitter Web App</td>\n",
              "      <td>False</td>\n",
              "    </tr>\n",
              "    <tr>\n",
              "      <th>0</th>\n",
              "      <td>Wyldcliffe</td>\n",
              "      <td>no fixed address</td>\n",
              "      <td>Ponderer &amp; Wanderer</td>\n",
              "      <td>2022-10-05 03:39:36</td>\n",
              "      <td>6</td>\n",
              "      <td>9</td>\n",
              "      <td>687</td>\n",
              "      <td>False</td>\n",
              "      <td>2022-11-27 18:29:56</td>\n",
              "      <td>#blankpaperexercise\\nThe Chinese people need our help! Trend blank paper exercise get the word out that the Chinese people in spite of horrific consequences are standing up against these lockdowns. The world needs a blank paper exercise. Time for courage is now. #China #COVID19 https://t.co/zUCh2YmkRy</td>\n",
              "      <td>[blankpaperexercise]</td>\n",
              "      <td>Twitter for iPad</td>\n",
              "      <td>False</td>\n",
              "    </tr>\n",
              "    <tr>\n",
              "      <th>0</th>\n",
              "      <td>The Swiss Pharmacy</td>\n",
              "      <td>Geneva,  Switzerland</td>\n",
              "      <td>Leading supplier of branded and generic medicines online</td>\n",
              "      <td>2009-08-02 10:46:42</td>\n",
              "      <td>142</td>\n",
              "      <td>2</td>\n",
              "      <td>38</td>\n",
              "      <td>False</td>\n",
              "      <td>2022-11-27 18:29:42</td>\n",
              "      <td>How long does covid-19 survive on surfaces ? The effect of temperature on persistence of SARS-CoV-2 on common surfaces #covid19 #covidsurfacetransmission https://t.co/S8WLjHDBeB</td>\n",
              "      <td>None</td>\n",
              "      <td>Twitter Web App</td>\n",
              "      <td>False</td>\n",
              "    </tr>\n",
              "  </tbody>\n",
              "</table>\n",
              "</div>\n",
              "      <button class=\"colab-df-convert\" onclick=\"convertToInteractive('df-56640a1d-edf5-4037-9d87-adf2e023fec7')\"\n",
              "              title=\"Convert this dataframe to an interactive table.\"\n",
              "              style=\"display:none;\">\n",
              "        \n",
              "  <svg xmlns=\"http://www.w3.org/2000/svg\" height=\"24px\"viewBox=\"0 0 24 24\"\n",
              "       width=\"24px\">\n",
              "    <path d=\"M0 0h24v24H0V0z\" fill=\"none\"/>\n",
              "    <path d=\"M18.56 5.44l.94 2.06.94-2.06 2.06-.94-2.06-.94-.94-2.06-.94 2.06-2.06.94zm-11 1L8.5 8.5l.94-2.06 2.06-.94-2.06-.94L8.5 2.5l-.94 2.06-2.06.94zm10 10l.94 2.06.94-2.06 2.06-.94-2.06-.94-.94-2.06-.94 2.06-2.06.94z\"/><path d=\"M17.41 7.96l-1.37-1.37c-.4-.4-.92-.59-1.43-.59-.52 0-1.04.2-1.43.59L10.3 9.45l-7.72 7.72c-.78.78-.78 2.05 0 2.83L4 21.41c.39.39.9.59 1.41.59.51 0 1.02-.2 1.41-.59l7.78-7.78 2.81-2.81c.8-.78.8-2.07 0-2.86zM5.41 20L4 18.59l7.72-7.72 1.47 1.35L5.41 20z\"/>\n",
              "  </svg>\n",
              "      </button>\n",
              "      \n",
              "  <style>\n",
              "    .colab-df-container {\n",
              "      display:flex;\n",
              "      flex-wrap:wrap;\n",
              "      gap: 12px;\n",
              "    }\n",
              "\n",
              "    .colab-df-convert {\n",
              "      background-color: #E8F0FE;\n",
              "      border: none;\n",
              "      border-radius: 50%;\n",
              "      cursor: pointer;\n",
              "      display: none;\n",
              "      fill: #1967D2;\n",
              "      height: 32px;\n",
              "      padding: 0 0 0 0;\n",
              "      width: 32px;\n",
              "    }\n",
              "\n",
              "    .colab-df-convert:hover {\n",
              "      background-color: #E2EBFA;\n",
              "      box-shadow: 0px 1px 2px rgba(60, 64, 67, 0.3), 0px 1px 3px 1px rgba(60, 64, 67, 0.15);\n",
              "      fill: #174EA6;\n",
              "    }\n",
              "\n",
              "    [theme=dark] .colab-df-convert {\n",
              "      background-color: #3B4455;\n",
              "      fill: #D2E3FC;\n",
              "    }\n",
              "\n",
              "    [theme=dark] .colab-df-convert:hover {\n",
              "      background-color: #434B5C;\n",
              "      box-shadow: 0px 1px 3px 1px rgba(0, 0, 0, 0.15);\n",
              "      filter: drop-shadow(0px 1px 2px rgba(0, 0, 0, 0.3));\n",
              "      fill: #FFFFFF;\n",
              "    }\n",
              "  </style>\n",
              "\n",
              "      <script>\n",
              "        const buttonEl =\n",
              "          document.querySelector('#df-56640a1d-edf5-4037-9d87-adf2e023fec7 button.colab-df-convert');\n",
              "        buttonEl.style.display =\n",
              "          google.colab.kernel.accessAllowed ? 'block' : 'none';\n",
              "\n",
              "        async function convertToInteractive(key) {\n",
              "          const element = document.querySelector('#df-56640a1d-edf5-4037-9d87-adf2e023fec7');\n",
              "          const dataTable =\n",
              "            await google.colab.kernel.invokeFunction('convertToInteractive',\n",
              "                                                     [key], {});\n",
              "          if (!dataTable) return;\n",
              "\n",
              "          const docLinkHtml = 'Like what you see? Visit the ' +\n",
              "            '<a target=\"_blank\" href=https://colab.research.google.com/notebooks/data_table.ipynb>data table notebook</a>'\n",
              "            + ' to learn more about interactive tables.';\n",
              "          element.innerHTML = '';\n",
              "          dataTable['output_type'] = 'display_data';\n",
              "          await google.colab.output.renderOutput(dataTable, element);\n",
              "          const docLink = document.createElement('div');\n",
              "          docLink.innerHTML = docLinkHtml;\n",
              "          element.appendChild(docLink);\n",
              "        }\n",
              "      </script>\n",
              "    </div>\n",
              "  </div>\n",
              "  "
            ]
          },
          "metadata": {},
          "execution_count": 10
        }
      ]
    },
    {
      "cell_type": "code",
      "source": [
        "tweets_old_df = pd.read_csv(\"covid19tweets.csv\")\n",
        "print(f\"past tweets: {tweets_old_df.shape}\")\n"
      ],
      "metadata": {
        "colab": {
          "base_uri": "https://localhost:8080/"
        },
        "id": "MF-JrgVmZ7iG",
        "outputId": "39ece964-8fef-4111-8027-f02ad52527cb"
      },
      "execution_count": 13,
      "outputs": [
        {
          "output_type": "stream",
          "name": "stdout",
          "text": [
            "past tweets: (82710, 13)\n"
          ]
        }
      ]
    },
    {
      "cell_type": "code",
      "source": [
        "tweets_all_df = pd.concat([tweets_old_df, tweets_df], axis=0)\n",
        "print(f\"new tweets: {tweets_df.shape[0]} past tweets: {tweets_old_df.shape[0]} all tweets: {tweets_all_df.shape[0]}\")"
      ],
      "metadata": {
        "colab": {
          "base_uri": "https://localhost:8080/"
        },
        "id": "C-cixW6UaAHK",
        "outputId": "114f4f07-7180-4a31-bd8d-46c53b2b1f85"
      },
      "execution_count": 14,
      "outputs": [
        {
          "output_type": "stream",
          "name": "stdout",
          "text": [
            "new tweets: 1245 past tweets: 82710 all tweets: 83955\n"
          ]
        }
      ]
    },
    {
      "cell_type": "code",
      "source": [
        "tweets_all_df.drop_duplicates(subset = [\"user_name\", \"date\", \"text\"], inplace=True)\n",
        "print(f\"all tweets: {tweets_all_df.shape}\")\n"
      ],
      "metadata": {
        "colab": {
          "base_uri": "https://localhost:8080/"
        },
        "id": "PEmUbgXEaXg7",
        "outputId": "47d653f1-e031-461b-d9ad-c39d3048f498"
      },
      "execution_count": 15,
      "outputs": [
        {
          "output_type": "stream",
          "name": "stdout",
          "text": [
            "all tweets: (83953, 13)\n"
          ]
        }
      ]
    },
    {
      "cell_type": "code",
      "source": [
        "tweets_all_df.to_csv(\"covid19tweets.csv\", index=False)"
      ],
      "metadata": {
        "id": "_YkI7vpGabxz"
      },
      "execution_count": 16,
      "outputs": []
    },
    {
      "cell_type": "code",
      "source": [],
      "metadata": {
        "id": "-gYTiTohah37"
      },
      "execution_count": null,
      "outputs": []
    }
  ]
}