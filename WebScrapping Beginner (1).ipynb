{
 "cells": [
  {
   "cell_type": "code",
   "execution_count": 1,
   "id": "736d3939",
   "metadata": {},
   "outputs": [],
   "source": [
    "from bs4 import BeautifulSoup\n",
    "import requests\n",
    "import smtplib\n",
    "import time\n",
    "import datetime"
   ]
  },
  {
   "cell_type": "code",
   "execution_count": 16,
   "id": "42ce7c01",
   "metadata": {},
   "outputs": [
    {
     "data": {
      "text/plain": [
       "'\\n\\n\\n                  $16.99\\n                 \\n\\n\\n                   $\\n                  \\n\\n                   16\\n                   \\n                    .\\n                   \\n\\n\\n                   99\\n                  \\n\\n\\n'"
      ]
     },
     "execution_count": 16,
     "metadata": {},
     "output_type": "execute_result"
    }
   ],
   "source": [
    "#Connect to Website\n",
    "URL='https://www.amazon.com/Funny-Data-Systems-Business-Analyst/dp/B07FNW9FGJ'\n",
    "headers={\"User-Agent\": \"Mozilla/5.0 (Windows NT 10.0; Win64; x64) AppleWebKit/537.36 (KHTML, like Gecko) Chrome/78.0.3904.108 Safari/537.36\", \"Accept-Encoding\":\"gzip, deflate\", \"Accept\":\"text/html,application/xhtml+xml,application/xml;q=0.9,*/*;q=0.8\", \"DNT\":\"1\",\"Connection\":\"close\", \"Upgrade-Insecure-Requests\":\"1\"}\n",
    "page=requests.get(URL,headers=headers)\n",
    "soup1=BeautifulSoup(page.content,'html.parser')\n",
    "soup2=BeautifulSoup(soup1.prettify(),'html.parser')\n",
    "title=soup2.find(id='productTitle').get_text()\n",
    "Price=soup2.find('div',{\"class\":\"a-section a-spacing-none aok-align-center\"}).get_text()\n",
    "Price\n"
   ]
  },
  {
   "cell_type": "code",
   "execution_count": 18,
   "id": "7decb684",
   "metadata": {},
   "outputs": [
    {
     "name": "stdout",
     "output_type": "stream",
     "text": [
      "Funny Got Data MIS Data Systems Business Analyst T-Shirt\n",
      "16.99\n"
     ]
    }
   ],
   "source": [
    "price=Price.strip()[1:6]\n",
    "title=title.strip()\n",
    "today=datetime.date.today()\n",
    "print(title)\n",
    "print(price)"
   ]
  },
  {
   "cell_type": "code",
   "execution_count": 19,
   "id": "79654611",
   "metadata": {},
   "outputs": [],
   "source": [
    "import csv\n",
    "header=['title','price','Date']\n",
    "data=[title,price,today]\n",
    "with open('Amazonwebscrapper.csv','w',newline='',encoding='UTF8') as f:\n",
    "    writer=csv.writer(f)\n",
    "    writer.writerow(header)\n",
    "    writer.writerow(data)"
   ]
  },
  {
   "cell_type": "code",
   "execution_count": 20,
   "id": "da3bf4bc",
   "metadata": {},
   "outputs": [
    {
     "data": {
      "text/html": [
       "<div>\n",
       "<style scoped>\n",
       "    .dataframe tbody tr th:only-of-type {\n",
       "        vertical-align: middle;\n",
       "    }\n",
       "\n",
       "    .dataframe tbody tr th {\n",
       "        vertical-align: top;\n",
       "    }\n",
       "\n",
       "    .dataframe thead th {\n",
       "        text-align: right;\n",
       "    }\n",
       "</style>\n",
       "<table border=\"1\" class=\"dataframe\">\n",
       "  <thead>\n",
       "    <tr style=\"text-align: right;\">\n",
       "      <th></th>\n",
       "      <th>title</th>\n",
       "      <th>price</th>\n",
       "      <th>Date</th>\n",
       "    </tr>\n",
       "  </thead>\n",
       "  <tbody>\n",
       "    <tr>\n",
       "      <th>0</th>\n",
       "      <td>Funny Got Data MIS Data Systems Business Analy...</td>\n",
       "      <td>16.99</td>\n",
       "      <td>2022-11-24</td>\n",
       "    </tr>\n",
       "  </tbody>\n",
       "</table>\n",
       "</div>"
      ],
      "text/plain": [
       "                                               title  price        Date\n",
       "0  Funny Got Data MIS Data Systems Business Analy...  16.99  2022-11-24"
      ]
     },
     "execution_count": 20,
     "metadata": {},
     "output_type": "execute_result"
    }
   ],
   "source": [
    "import pandas as pd\n",
    "pd.read_csv('Amazonwebscrapper.csv')"
   ]
  },
  {
   "cell_type": "code",
   "execution_count": 36,
   "id": "9c08c852",
   "metadata": {},
   "outputs": [],
   "source": [
    "#appending data to the csv\n",
    "with open('Amazonwebscrapper.csv','a+',newline='',encoding='UTF8') as f:\n",
    "    writer=csv.writer(f)\n",
    "    writer.writerow(data)"
   ]
  },
  {
   "cell_type": "code",
   "execution_count": 37,
   "id": "8bf636ca",
   "metadata": {},
   "outputs": [
    {
     "data": {
      "text/html": [
       "<div>\n",
       "<style scoped>\n",
       "    .dataframe tbody tr th:only-of-type {\n",
       "        vertical-align: middle;\n",
       "    }\n",
       "\n",
       "    .dataframe tbody tr th {\n",
       "        vertical-align: top;\n",
       "    }\n",
       "\n",
       "    .dataframe thead th {\n",
       "        text-align: right;\n",
       "    }\n",
       "</style>\n",
       "<table border=\"1\" class=\"dataframe\">\n",
       "  <thead>\n",
       "    <tr style=\"text-align: right;\">\n",
       "      <th></th>\n",
       "      <th>Funny Got Data MIS Data Systems Business Analyst T-Shirt</th>\n",
       "      <th>16.99</th>\n",
       "      <th>2022-11-24</th>\n",
       "    </tr>\n",
       "  </thead>\n",
       "  <tbody>\n",
       "    <tr>\n",
       "      <th>0</th>\n",
       "      <td>Funny Got Data MIS Data Systems Business Analy...</td>\n",
       "      <td>16.99</td>\n",
       "      <td>2022-11-24</td>\n",
       "    </tr>\n",
       "    <tr>\n",
       "      <th>1</th>\n",
       "      <td>Funny Got Data MIS Data Systems Business Analy...</td>\n",
       "      <td>16.99</td>\n",
       "      <td>2022-11-24</td>\n",
       "    </tr>\n",
       "  </tbody>\n",
       "</table>\n",
       "</div>"
      ],
      "text/plain": [
       "  Funny Got Data MIS Data Systems Business Analyst T-Shirt  16.99  2022-11-24\n",
       "0  Funny Got Data MIS Data Systems Business Analy...        16.99  2022-11-24\n",
       "1  Funny Got Data MIS Data Systems Business Analy...        16.99  2022-11-24"
      ]
     },
     "execution_count": 37,
     "metadata": {},
     "output_type": "execute_result"
    }
   ],
   "source": [
    "pd.read_csv('Amazonwebscrapper.csv')"
   ]
  },
  {
   "cell_type": "code",
   "execution_count": null,
   "id": "b465a471",
   "metadata": {},
   "outputs": [],
   "source": []
  }
 ],
 "metadata": {
  "kernelspec": {
   "display_name": "Python 3 (ipykernel)",
   "language": "python",
   "name": "python3"
  },
  "language_info": {
   "codemirror_mode": {
    "name": "ipython",
    "version": 3
   },
   "file_extension": ".py",
   "mimetype": "text/x-python",
   "name": "python",
   "nbconvert_exporter": "python",
   "pygments_lexer": "ipython3",
   "version": "3.9.12"
  }
 },
 "nbformat": 4,
 "nbformat_minor": 5
}
